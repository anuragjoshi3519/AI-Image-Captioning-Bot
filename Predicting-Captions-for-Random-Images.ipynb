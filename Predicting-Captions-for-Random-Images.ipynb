{
 "cells": [
  {
   "cell_type": "code",
   "execution_count": 1,
   "metadata": {},
   "outputs": [],
   "source": [
    "import numpy as np\n",
    "import json\n",
    "import pickle\n",
    "import pathlib\n",
    "import matplotlib.pyplot as plt\n",
    "from tensorflow.keras.models import load_model\n",
    "from tensorflow.keras.preprocessing import image\n",
    "from tensorflow.keras.applications.resnet50 import preprocess_input\n",
    "from tensorflow.keras.preprocessing.sequence import pad_sequences\n",
    "\n",
    "import warnings\n",
    "warnings.filterwarnings('ignore')"
   ]
  },
  {
   "cell_type": "code",
   "execution_count": 2,
   "metadata": {},
   "outputs": [],
   "source": [
    "## Loading word to index mapping\n",
    "with open('./resources/word2idx.pkl','rb') as f:\n",
    "    word2idx=pickle.load(f)\n",
    "\n",
    "## Loading index to word mapping\n",
    "with open('./resources/idx2word.pkl','rb') as f:\n",
    "    idx2word=pickle.load(f)\n",
    "\n",
    "## Loading ResNet50 testing image features     \n",
    "with open(\"./resources/encoded_test_images.pkl\",\"rb\") as f:    \n",
    "    encoded_test_images = pickle.load(f)"
   ]
  },
  {
   "cell_type": "code",
   "execution_count": 3,
   "metadata": {},
   "outputs": [
    {
     "name": "stdout",
     "output_type": "stream",
     "text": [
      "WARNING:tensorflow:From /home/joshi_anurag/anaconda3/lib/python3.7/site-packages/keras/backend/tensorflow_backend.py:4070: The name tf.nn.max_pool is deprecated. Please use tf.nn.max_pool2d instead.\n",
      "\n"
     ]
    }
   ],
   "source": [
    "featureExtract_model = load_model(\"./resources/resNet50.h5\")\n",
    "\n",
    "def preprocess_image(img_path):\n",
    "    img = image.load_img(img_path,target_size=(224,224))\n",
    "    img = image.img_to_array(img)\n",
    "    img = np.expand_dims(img,axis=0)\n",
    "    img = preprocess_input(img)  ## preprocessing for ResNet50\n",
    "    return img\n",
    "def encode_image(img_path):\n",
    "    img = preprocess_image(img_path)\n",
    "    img_feature_vector = featureExtract_model.predict(img)\n",
    "    img_feature_vector = img_feature_vector.reshape((-1,))\n",
    "    return img_feature_vector"
   ]
  },
  {
   "cell_type": "code",
   "execution_count": 4,
   "metadata": {},
   "outputs": [
    {
     "name": "stdout",
     "output_type": "stream",
     "text": [
      "WARNING:tensorflow:From /home/joshi_anurag/anaconda3/lib/python3.7/site-packages/tensorflow/python/keras/backend.py:3794: add_dispatch_support.<locals>.wrapper (from tensorflow.python.ops.array_ops) is deprecated and will be removed in a future version.\n",
      "Instructions for updating:\n",
      "Use tf.where in 2.0, which has the same broadcast rule as np.where\n",
      "WARNING:tensorflow:From /home/joshi_anurag/anaconda3/lib/python3.7/site-packages/keras/backend/tensorflow_backend.py:422: The name tf.global_variables is deprecated. Please use tf.compat.v1.global_variables instead.\n",
      "\n"
     ]
    }
   ],
   "source": [
    "maxlen = 40\n",
    "model = load_model('./models_weights/model.h5')"
   ]
  },
  {
   "cell_type": "code",
   "execution_count": 13,
   "metadata": {},
   "outputs": [],
   "source": [
    "def predict_caption(image_path):\n",
    "    \n",
    "    photo = encode_image(image_path).reshape(1,2048)\n",
    "    \n",
    "    input_text = '<s>'\n",
    "    for i in range(maxlen):\n",
    "        sequence = [word2idx[word] for word in input_text.split() if word in word2idx]\n",
    "        sequence = pad_sequences([sequence],maxlen=maxlen,padding='post')\n",
    "        \n",
    "        ypred = model.predict([photo,sequence])\n",
    "        ypred = ypred.argmax()\n",
    "        word = idx2word[ypred]\n",
    "        \n",
    "        input_text +=' ' + word\n",
    "        \n",
    "        if word == '<e>':\n",
    "            break\n",
    "            \n",
    "    final_caption=input_text.split()[1:-1]\n",
    "    final_caption=' '.join(final_caption)\n",
    "    \n",
    "    print(final_caption)\n",
    "    img=plt.imread(PATH+image_name)\n",
    "    plt.imshow(img)\n",
    "    plt.show()"
   ]
  },
  {
   "cell_type": "code",
   "execution_count": 48,
   "metadata": {},
   "outputs": [],
   "source": [
    "## pick and generating captions for random images from Test_Images\n",
    "\n",
    "PATH = 'Test-Images/'\n",
    "path = pathlib.Path(PATH)\n",
    "folder = path.glob('*')\n",
    "\n",
    "for img_path in list(folder)[:-1] :\n",
    "    image_name = str(img_path).split('/')[1]\n",
    "    predict_caption(PATH+image_name)"
   ]
  },
  {
   "cell_type": "markdown",
   "metadata": {},
   "source": [
    "_To get a caption for an image call **predict_caption** by giving it path to that image._"
   ]
  },
  {
   "cell_type": "code",
   "execution_count": 15,
   "metadata": {},
   "outputs": [],
   "source": [
    "#predict_caption(image_path)"
   ]
  },
  {
   "cell_type": "code",
   "execution_count": null,
   "metadata": {},
   "outputs": [],
   "source": []
  }
 ],
 "metadata": {
  "kernelspec": {
   "display_name": "Python 3",
   "language": "python",
   "name": "python3"
  },
  "language_info": {
   "codemirror_mode": {
    "name": "ipython",
    "version": 3
   },
   "file_extension": ".py",
   "mimetype": "text/x-python",
   "name": "python",
   "nbconvert_exporter": "python",
   "pygments_lexer": "ipython3",
   "version": "3.7.4"
  }
 },
 "nbformat": 4,
 "nbformat_minor": 2
}
