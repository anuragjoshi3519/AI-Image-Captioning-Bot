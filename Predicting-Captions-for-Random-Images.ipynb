{
 "cells": [
  {
   "cell_type": "code",
   "execution_count": 31,
   "metadata": {},
   "outputs": [],
   "source": [
    "import numpy as np\n",
    "import json\n",
    "import pickle\n",
    "import matplotlib.pyplot as plt\n",
    "from keras.models import load_model\n",
    "from keras.preprocessing.sequence import pad_sequences"
   ]
  },
  {
   "cell_type": "code",
   "execution_count": 32,
   "metadata": {},
   "outputs": [],
   "source": [
    "## Loading word to index mapping\n",
    "with open('./resources/word2idx.pkl','rb') as f:\n",
    "    word2idx=pickle.load(f)\n",
    "\n",
    "## Loading index to word mapping\n",
    "with open('./resources/idx2word.pkl','rb') as f:\n",
    "    idx2word=pickle.load(f)\n",
    "\n",
    "## Loading ResNet50 testing image features     \n",
    "with open(\"./resources/encoded_test_images.pkl\",\"rb\") as f:    \n",
    "    encoded_test_images = pickle.load(f)"
   ]
  },
  {
   "cell_type": "code",
   "execution_count": 39,
   "metadata": {},
   "outputs": [],
   "source": [
    "maxlen = 39\n",
    "model = load_model('./models_weights/model.h5')\n",
    "\n",
    "def predict_caption(photo):\n",
    "    input_text = '<s>'\n",
    "    for i in range(maxlen):\n",
    "        sequence = [word2idx[word] for word in input_text.split() if word in word2idx]\n",
    "        sequence = pad_sequences([sequence],maxlen=maxlen,padding='post')\n",
    "        \n",
    "        ypred = model.predict([photo,sequence])\n",
    "        ypred = ypred.argmax()\n",
    "        word = idx2word[ypred]\n",
    "        \n",
    "        input_text +=' ' + word\n",
    "        \n",
    "        if word == '<e>':\n",
    "            break\n",
    "            \n",
    "    final_caption=input_text.split()[1:-1]\n",
    "    final_caption=' '.join(final_caption)\n",
    "    \n",
    "    return final_caption"
   ]
  },
  {
   "cell_type": "code",
   "execution_count": 41,
   "metadata": {},
   "outputs": [],
   "source": [
    "## pick and generating captions for random images from test set\n",
    "all_image_names = list(encoded_test_images.keys())\n",
    "for i in range(15):\n",
    "    idx=np.random.randint(0,1000)\n",
    "    image_name = all_image_names[idx]\n",
    "    photo = encoded_test_images[image_name].reshape(1,2048)\n",
    "    \n",
    "    caption = predict_caption(photo)\n",
    "    print(caption)\n",
    "    i=plt.imread('./flickr8k/Data/Images/'+image_name)\n",
    "    plt.imshow(i)\n",
    "    plt.show()"
   ]
  },
  {
   "cell_type": "code",
   "execution_count": null,
   "metadata": {},
   "outputs": [],
   "source": []
  },
  {
   "cell_type": "code",
   "execution_count": null,
   "metadata": {},
   "outputs": [],
   "source": []
  }
 ],
 "metadata": {
  "kernelspec": {
   "display_name": "Python 3",
   "language": "python",
   "name": "python3"
  },
  "language_info": {
   "codemirror_mode": {
    "name": "ipython",
    "version": 3
   },
   "file_extension": ".py",
   "mimetype": "text/x-python",
   "name": "python",
   "nbconvert_exporter": "python",
   "pygments_lexer": "ipython3",
   "version": "3.7.4"
  }
 },
 "nbformat": 4,
 "nbformat_minor": 2
}
