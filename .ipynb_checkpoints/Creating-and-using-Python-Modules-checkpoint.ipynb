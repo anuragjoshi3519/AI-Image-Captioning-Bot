{
 "cells": [
  {
   "cell_type": "markdown",
   "metadata": {},
   "source": [
    "## <u>What are Python Modules?<u>\n",
    "\n",
    "A python **module** is basically just a file consisting of Python code. It can define **functions**, **classes**, and **variables**, and can also include runnable code. A file containing Python code, for example: **hello.py**, is called a module, and its name would be **hello**.\n",
    "\n",
    "Some modules are made available to us through the Python Standard Library and are therefore installed with your Python installation. Others can be installed with Python’s package manager **pip** or **conda**. Additionally, we can create our own Python modules since modules are just comprised of python .py files."
   ]
  },
  {
   "cell_type": "markdown",
   "metadata": {},
   "source": [
    "## <u>Writing our own Python Module.<u>\n",
    "\n",
    "- Let's make a basic calculator module which has 5 functions **add()**, **sub()**, **multiply()**, **divide()** & **power()** and a constant variable **PI** in a single file using any text editor.\n",
    "- Save that file by the name **ourCalculator.py**."
   ]
  },
  {
   "cell_type": "markdown",
   "metadata": {},
   "source": [
    "### Create a file 'ourCalculator.py' and write following code :"
   ]
  },
  {
   "cell_type": "code",
   "execution_count": null,
   "metadata": {},
   "outputs": [],
   "source": [
    "PI = 3.141592\n",
    "\n",
    "def add(a,b):           # function to perform addition\n",
    "    total = a+b\n",
    "    return total\n",
    "\n",
    "def sub(a,b):           # function to perform subtraction\n",
    "    total = a-b\n",
    "    return total\n",
    "\n",
    "def multiply(a,b):      # function to perform multiplication\n",
    "    total = a*b\n",
    "    return total\n",
    "\n",
    "def divide(a,b):        # function to perform division\n",
    "    total = a/b\n",
    "    return total\n",
    "\n",
    "def power(a,b):         # function to perform exponentiation operation\n",
    "    total = a**b\n",
    "    return total\n",
    "\n",
    "# This block of code will only run if we directly run ourCalulator.py \n",
    "if __name__ == '__main__': \n",
    "    print(\"sum of 34 and 56 is %d\"% add(34,56))"
   ]
  },
  {
   "cell_type": "markdown",
   "metadata": {},
   "source": [
    "## Importing and using our Python Module in other python scripts.\n",
    "\n",
    "- Let's first make a file by the name **test.py** and save it in the same directory as our python module file.\n",
    "- Now open **test.py** and write **import ourCalculator** , this import statement is used to import other python modules into our currently working python file.\n",
    "- After importing, now we can use any code that we have written in our module file in this file too."
   ]
  },
  {
   "cell_type": "markdown",
   "metadata": {},
   "source": [
    "### Create a file 'test.py' and write following code :"
   ]
  },
  {
   "cell_type": "code",
   "execution_count": null,
   "metadata": {},
   "outputs": [],
   "source": [
    "import ourCalculator     ## Import Statement\n",
    "\n",
    "def main():\n",
    "    print(\"Value of PI is %d\"% ourCalculator.PI)                      #Using PI from ourCalculator.py\n",
    "\n",
    "    print(\"Sum of 30 and 55 : %d\"% ourCalculator.add(30,55))          #Using add() function from ourCalculator.py\n",
    "\n",
    "    print(\"Subtracting of 20 from 75 : %d\"% ourCalculator.sub(75,20)) #Using sub() function from ourCalculator.py\n",
    "\n",
    "    print(\"Multiplying 10 by 25 : %d\"% ourCalculator.multiply(10,25)) #Using multiply() function from ourCalculator.py\n",
    "\n",
    "    print(\"Dividing of 55 by 5 : %.2f\"% ourCalculator.divide(55,5))   #Using divide() function from ourCalculator.py\n",
    "\n",
    "    print(\"5 raise to the power 7 : %d\"% ourCalculator.power(5,7))    #Using power() function from ourCalculator.py\n",
    "\n",
    "\n",
    "# This block of code will only run if we directly run test.py \n",
    "if __name__=='__main__':\n",
    "    main()"
   ]
  },
  {
   "cell_type": "markdown",
   "metadata": {},
   "source": [
    "## Note:\n",
    "### We Could also selectively import specific functions,classes and variables from a module. \n",
    " - To do this we need to write - **from ourCalculator import add , multiply**  \n",
    " \n",
    " _This will only import **add()** and **multiply()** function from our module_\n",
    " \n",
    " \n",
    " \n",
    " - To import all the variable, functions & classes from a module we could also use : **from ourCalculator import *** \n",
    " \n",
    " _In this statement ' * ' in the end is used to denote importing everything from the module_ \n"
   ]
  },
  {
   "cell_type": "markdown",
   "metadata": {},
   "source": [
    "### Now we just need to run our test.py file from the terminal (or command prompt), To do this :\n",
    "1. In terminal(or cmd) go the directory containing your **ourCalculator.py** and **test.py** files, then\n",
    "2. Type : **python test.py**"
   ]
  },
  {
   "cell_type": "markdown",
   "metadata": {},
   "source": [
    "## <u>So hopefully, We all now know how to make and use python modules<u>"
   ]
  },
  {
   "cell_type": "code",
   "execution_count": null,
   "metadata": {},
   "outputs": [],
   "source": []
  },
  {
   "cell_type": "code",
   "execution_count": null,
   "metadata": {},
   "outputs": [],
   "source": []
  },
  {
   "cell_type": "markdown",
   "metadata": {},
   "source": [
    "## Now, lets see how could we add our Module to the Python Path so that we could access our module from any directory.\n",
    "\n",
    "For this we need to know what is the default **path** Python checks to import a module when we use **import** statement in our code.\n",
    "\n",
    "**This we could find out right here in our jupyter notebooks (or in any other python programming environment) using following code :** \n"
   ]
  },
  {
   "cell_type": "code",
   "execution_count": 6,
   "metadata": {},
   "outputs": [
    {
     "name": "stdout",
     "output_type": "stream",
     "text": [
      "['/home/joshi_anurag/Desktop/Image Captioning Bot', '/home/joshi_anurag/anaconda3/lib/python37.zip', '/home/joshi_anurag/anaconda3/lib/python3.7', '/home/joshi_anurag/anaconda3/lib/python3.7/lib-dynload', '', '/home/joshi_anurag/anaconda3/lib/python3.7/site-packages', '/home/joshi_anurag/anaconda3/lib/python3.7/site-packages/IPython/extensions', '/home/joshi_anurag/.ipython']\n"
     ]
    }
   ],
   "source": [
    "import sys\n",
    "\n",
    "print(sys.path)"
   ]
  },
  {
   "cell_type": "markdown",
   "metadata": {},
   "source": [
    "### You will get output which will be the list of different paths, Choose the path having structure like :\n",
    "\n",
    "\n",
    "' /home/your-user-name/anaconda3/lib/python3.7/site-packages ' \n",
    "\n",
    "**Go to this path in your PC and just paste your module there. Now you can import and access your module from anywhere in your PC.**"
   ]
  },
  {
   "cell_type": "code",
   "execution_count": null,
   "metadata": {},
   "outputs": [],
   "source": []
  }
 ],
 "metadata": {
  "kernelspec": {
   "display_name": "Python 3",
   "language": "python",
   "name": "python3"
  },
  "language_info": {
   "codemirror_mode": {
    "name": "ipython",
    "version": 3
   },
   "file_extension": ".py",
   "mimetype": "text/x-python",
   "name": "python",
   "nbconvert_exporter": "python",
   "pygments_lexer": "ipython3",
   "version": "3.7.4"
  }
 },
 "nbformat": 4,
 "nbformat_minor": 2
}
